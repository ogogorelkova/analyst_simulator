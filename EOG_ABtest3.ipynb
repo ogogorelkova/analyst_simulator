{
 "cells": [
  {
   "cell_type": "markdown",
   "id": "3524650f-64ca-4634-b491-445c7db77e19",
   "metadata": {
    "tags": []
   },
   "source": [
    "## TASK#3 AB test по линеризованным метрикам\n",
    "\n",
    "Относительно недавно (в 2018-м году) исследователи из Яндекса разработали классный метод анализа тестов над метриками-отношениями (прямо как у нас) вида  𝑥𝑦  (У нас  clicks/likes).\n",
    "\n",
    "Идея метода заключается в следующем:\n",
    "\n",
    "Вместо того, чтобы заталкивать в тест «поюзерные» CTR, можно сконструировать другую метрику и анализировать ее, но при этом гарантируется (в отличие от сглаженного CTR), что если тест на этой другой метрике «прокрасится» и увидит изменения, значит изменения есть и в метрике исходной (то есть в лайках на пользователя и в пользовательских CTR\\\n",
    "\n",
    "При этом метод сам по себе очень прост. Что это за метрика такая?\n",
    "\n",
    "- Считаем общий CTR в контрольной группе  𝐶𝑇𝑅𝑐𝑜𝑛𝑡𝑟𝑜𝑙=𝑠𝑢𝑚(𝑙𝑖𝑘𝑒𝑠)/𝑠𝑢𝑚(𝑣𝑖𝑒𝑤𝑠) \n",
    "- Посчитаем в обеих группах поюзерную метрику  𝑙𝑖𝑛𝑒𝑎𝑟𝑖𝑧𝑒𝑑_𝑙𝑖𝑘𝑒𝑠=𝑙𝑖𝑘𝑒𝑠−𝐶𝑇𝑅𝑐𝑜𝑛𝑡𝑟𝑜𝑙∗𝑣𝑖𝑒𝑤𝑠 \n",
    "- После чего сравним  t-тестом отличия в группах по метрике 𝑙𝑖𝑛𝑒𝑎𝑟𝑖𝑧𝑒𝑑_𝑙𝑖𝑘𝑒𝑠  \n",
    "Метод простой, гарантируется, что при приличном размере выборки (как у нас — подойдет) можно бесплатно увеличить чувствительность вашей метрики (или, по крайней мере, не сделать хуже). \n",
    "\n",
    "Проанализируйте тест между группами 0 и 3 по метрике линеаризованных лайков. Видно ли отличие? Стало ли 𝑝−𝑣𝑎𝑙𝑢𝑒 меньше?\\\n",
    "Проанализируйте тест между группами 1 и 2 по метрике линеаризованных лайков. Видно ли отличие? Стало ли 𝑝−𝑣𝑎𝑙𝑢𝑒 меньше?"
   ]
  },
  {
   "cell_type": "markdown",
   "id": "ed28cef9-8301-4489-88b0-a3b761f41ea5",
   "metadata": {},
   "source": [
    "Группы:\n",
    "* exp_group = 1 - Все по-старому\n",
    "* exp_group = 2 - Рекомендации \"похожих на лайкнутые постов\"\n",
    "\n",
    "* exp_group = 0 – Все по-старому\n",
    "* exp_group = 3 - Рекомендации \"постов, которые лайкали похожие на вас люди\""
   ]
  },
  {
   "cell_type": "code",
   "execution_count": 1,
   "id": "b434a1c5-14a2-4c25-b109-4510a5e9ab2f",
   "metadata": {},
   "outputs": [],
   "source": [
    "import pandas as pd\n",
    "import seaborn as sns\n",
    "import pandahouse\n",
    "import statsmodels as stats\n",
    "import random\n",
    "from scipy.stats import ttest_ind"
   ]
  },
  {
   "cell_type": "code",
   "execution_count": 73,
   "id": "eb343a1e-ddf2-452a-ae7b-3110c931dd99",
   "metadata": {},
   "outputs": [
    {
     "data": {
      "text/html": [
       "<div>\n",
       "<style scoped>\n",
       "    .dataframe tbody tr th:only-of-type {\n",
       "        vertical-align: middle;\n",
       "    }\n",
       "\n",
       "    .dataframe tbody tr th {\n",
       "        vertical-align: top;\n",
       "    }\n",
       "\n",
       "    .dataframe thead th {\n",
       "        text-align: right;\n",
       "    }\n",
       "</style>\n",
       "<table border=\"1\" class=\"dataframe\">\n",
       "  <thead>\n",
       "    <tr style=\"text-align: right;\">\n",
       "      <th></th>\n",
       "      <th>exp_group</th>\n",
       "      <th>user_id</th>\n",
       "      <th>likes</th>\n",
       "      <th>views</th>\n",
       "      <th>ctr</th>\n",
       "    </tr>\n",
       "  </thead>\n",
       "  <tbody>\n",
       "    <tr>\n",
       "      <th>0</th>\n",
       "      <td>1</td>\n",
       "      <td>18392</td>\n",
       "      <td>7</td>\n",
       "      <td>32</td>\n",
       "      <td>0.218750</td>\n",
       "    </tr>\n",
       "    <tr>\n",
       "      <th>1</th>\n",
       "      <td>3</td>\n",
       "      <td>115383</td>\n",
       "      <td>12</td>\n",
       "      <td>44</td>\n",
       "      <td>0.272727</td>\n",
       "    </tr>\n",
       "    <tr>\n",
       "      <th>2</th>\n",
       "      <td>3</td>\n",
       "      <td>123580</td>\n",
       "      <td>2</td>\n",
       "      <td>11</td>\n",
       "      <td>0.181818</td>\n",
       "    </tr>\n",
       "    <tr>\n",
       "      <th>3</th>\n",
       "      <td>2</td>\n",
       "      <td>131473</td>\n",
       "      <td>9</td>\n",
       "      <td>108</td>\n",
       "      <td>0.083333</td>\n",
       "    </tr>\n",
       "    <tr>\n",
       "      <th>4</th>\n",
       "      <td>4</td>\n",
       "      <td>107323</td>\n",
       "      <td>5</td>\n",
       "      <td>31</td>\n",
       "      <td>0.161290</td>\n",
       "    </tr>\n",
       "  </tbody>\n",
       "</table>\n",
       "</div>"
      ],
      "text/plain": [
       "   exp_group  user_id  likes  views       ctr\n",
       "0          1    18392      7     32  0.218750\n",
       "1          3   115383     12     44  0.272727\n",
       "2          3   123580      2     11  0.181818\n",
       "3          2   131473      9    108  0.083333\n",
       "4          4   107323      5     31  0.161290"
      ]
     },
     "execution_count": 73,
     "metadata": {},
     "output_type": "execute_result"
    }
   ],
   "source": [
    "#читаем нашу бд. нам нужны все 4 группы для этого теста\n",
    "\n",
    "connection = {\n",
    "    'host': 'https://clickhouse.lab.karpov.courses',\n",
    "    'password': 'dpo_python_2020',\n",
    "    'user': 'student',\n",
    "    'database': 'simulator'\n",
    "}\n",
    "\n",
    "q = \"\"\"\n",
    "SELECT exp_group, \n",
    "    user_id,\n",
    "    sum(action = 'like') as likes,\n",
    "    sum(action = 'view') as views,\n",
    "    likes / views as ctr\n",
    "FROM simulator_20230820.feed_actions \n",
    "WHERE toDate(time) between '2023-07-30' and '2023-08-05'\n",
    "GROUP BY exp_group, user_id\n",
    "\"\"\"\n",
    "\n",
    "df = pandahouse.read_clickhouse(q, connection=connection)\n",
    "\n",
    "#дф который мы выгрузили\n",
    "df.head()"
   ]
  },
  {
   "cell_type": "code",
   "execution_count": 60,
   "id": "8dfb2244-d329-4192-88b4-7cff3178f483",
   "metadata": {},
   "outputs": [
    {
     "data": {
      "text/plain": [
       "(0.20983799195924746, 0.2096041628394293)"
      ]
     },
     "execution_count": 60,
     "metadata": {},
     "output_type": "execute_result"
    }
   ],
   "source": [
    "# Считаем общий CTR в контрольной группе  𝐶𝑇𝑅𝑐𝑜𝑛𝑡𝑟𝑜𝑙=𝑠𝑢𝑚(𝑙𝑖𝑘𝑒𝑠)/𝑠𝑢𝑚(𝑣𝑖𝑒𝑤𝑠)\n",
    "# контрольные группы - 0 и 1\n",
    "\n",
    "C0= df[df.exp_group == 0].likes.sum() / df[df.exp_group == 0].views.sum()\n",
    "C1= df[df.exp_group == 1].likes.sum() / df[df.exp_group == 1].views.sum()\n",
    "\n",
    "C0, C1"
   ]
  },
  {
   "cell_type": "code",
   "execution_count": 61,
   "id": "84e03891-f39b-4719-8bed-36e287ec7095",
   "metadata": {},
   "outputs": [],
   "source": [
    "df['linearized_likes'] = 0"
   ]
  },
  {
   "cell_type": "code",
   "execution_count": 62,
   "id": "2a3e529f-9791-4b63-8915-799327458cc9",
   "metadata": {},
   "outputs": [
    {
     "name": "stderr",
     "output_type": "stream",
     "text": [
      "/tmp/ipykernel_193/1858722923.py:4: SettingWithCopyWarning: \n",
      "A value is trying to be set on a copy of a slice from a DataFrame\n",
      "\n",
      "See the caveats in the documentation: https://pandas.pydata.org/pandas-docs/stable/user_guide/indexing.html#returning-a-view-versus-a-copy\n",
      "  df['linearized_likes'][df.exp_group == 0] = df['likes'][df.exp_group == 0] - C0 * df['views'][df.exp_group == 0]\n"
     ]
    },
    {
     "data": {
      "text/html": [
       "<div>\n",
       "<style scoped>\n",
       "    .dataframe tbody tr th:only-of-type {\n",
       "        vertical-align: middle;\n",
       "    }\n",
       "\n",
       "    .dataframe tbody tr th {\n",
       "        vertical-align: top;\n",
       "    }\n",
       "\n",
       "    .dataframe thead th {\n",
       "        text-align: right;\n",
       "    }\n",
       "</style>\n",
       "<table border=\"1\" class=\"dataframe\">\n",
       "  <thead>\n",
       "    <tr style=\"text-align: right;\">\n",
       "      <th></th>\n",
       "      <th>exp_group</th>\n",
       "      <th>user_id</th>\n",
       "      <th>likes</th>\n",
       "      <th>views</th>\n",
       "      <th>linearized_likes</th>\n",
       "    </tr>\n",
       "  </thead>\n",
       "  <tbody>\n",
       "    <tr>\n",
       "      <th>0</th>\n",
       "      <td>1</td>\n",
       "      <td>18392</td>\n",
       "      <td>7</td>\n",
       "      <td>32</td>\n",
       "      <td>0.292667</td>\n",
       "    </tr>\n",
       "    <tr>\n",
       "      <th>1</th>\n",
       "      <td>3</td>\n",
       "      <td>115383</td>\n",
       "      <td>12</td>\n",
       "      <td>44</td>\n",
       "      <td>2.767128</td>\n",
       "    </tr>\n",
       "    <tr>\n",
       "      <th>2</th>\n",
       "      <td>3</td>\n",
       "      <td>123580</td>\n",
       "      <td>2</td>\n",
       "      <td>11</td>\n",
       "      <td>-0.308218</td>\n",
       "    </tr>\n",
       "    <tr>\n",
       "      <th>3</th>\n",
       "      <td>2</td>\n",
       "      <td>131473</td>\n",
       "      <td>9</td>\n",
       "      <td>108</td>\n",
       "      <td>-13.637250</td>\n",
       "    </tr>\n",
       "    <tr>\n",
       "      <th>4</th>\n",
       "      <td>4</td>\n",
       "      <td>107323</td>\n",
       "      <td>5</td>\n",
       "      <td>31</td>\n",
       "      <td>0.000000</td>\n",
       "    </tr>\n",
       "  </tbody>\n",
       "</table>\n",
       "</div>"
      ],
      "text/plain": [
       "   exp_group  user_id  likes  views  linearized_likes\n",
       "0          1    18392      7     32          0.292667\n",
       "1          3   115383     12     44          2.767128\n",
       "2          3   123580      2     11         -0.308218\n",
       "3          2   131473      9    108        -13.637250\n",
       "4          4   107323      5     31          0.000000"
      ]
     },
     "execution_count": 62,
     "metadata": {},
     "output_type": "execute_result"
    }
   ],
   "source": [
    "# Посчитаем ВО ВСЕХ группах поюзерную метрику  𝑙𝑖𝑛𝑒𝑎𝑟𝑖𝑧𝑒𝑑_𝑙𝑖𝑘𝑒𝑠=𝑙𝑖𝑘𝑒𝑠−𝐶𝑇𝑅𝑐𝑜𝑛𝑡𝑟𝑜𝑙∗𝑣𝑖𝑒𝑤𝑠 \n",
    "\n",
    "\n",
    "df['linearized_likes'][df.exp_group == 0] = df['likes'][df.exp_group == 0] - C0 * df['views'][df.exp_group == 0]\n",
    "df['linearized_likes'][df.exp_group == 3] = df['likes'][df.exp_group == 3] - C0 * df['views'][df.exp_group == 3]\n",
    "df['linearized_likes'][df.exp_group == 1] = df['likes'][df.exp_group == 1] - C1 * df['views'][df.exp_group == 1]\n",
    "df['linearized_likes'][df.exp_group == 2] = df['likes'][df.exp_group == 2] - C1 * df['views'][df.exp_group == 2]\n",
    "\n",
    "df.head()"
   ]
  },
  {
   "cell_type": "code",
   "execution_count": 63,
   "id": "36465d97-c204-40bc-a95c-12c15464e8f6",
   "metadata": {},
   "outputs": [
    {
     "data": {
      "image/png": "[encoded data removed]",
      "text/plain": [
       "<Figure size 432x288 with 1 Axes>"
      ]
     },
     "metadata": {
      "needs_background": "light"
     },
     "output_type": "display_data"
    }
   ],
   "source": [
    "# смотрим группы 0 и 3\n",
    "groups = sns.histplot(data = df[df.exp_group.isin((0,3))], \n",
    "              x='linearized_likes', \n",
    "              hue='exp_group', \n",
    "              palette = ['r', 'b'],\n",
    "              alpha=0.5,\n",
    "              kde=False)"
   ]
  },
  {
   "cell_type": "code",
   "execution_count": 68,
   "id": "ef3f6c2c-983d-46be-8190-25b9b26c5f02",
   "metadata": {},
   "outputs": [
    {
     "data": {
      "text/plain": [
       "Ttest_indResult(statistic=-16.18623003293285, pvalue=1.4918137745324434e-58)"
      ]
     },
     "execution_count": 68,
     "metadata": {},
     "output_type": "execute_result"
    }
   ],
   "source": [
    "# t-test по группам 0 и 3\n",
    "ttest03 = ttest_ind(df['linearized_likes'][df.exp_group == 0], df['linearized_likes'][df.exp_group == 3], \n",
    "                    equal_var = False)\n",
    "ttest03"
   ]
  },
  {
   "cell_type": "code",
   "execution_count": 75,
   "id": "c53bcecf-aa9c-4c09-8eba-95e0f1b11cdd",
   "metadata": {},
   "outputs": [
    {
     "data": {
      "text/plain": [
       "Ttest_indResult(statistic=-13.935320516755823, pvalue=6.216047483057877e-44)"
      ]
     },
     "execution_count": 75,
     "metadata": {},
     "output_type": "execute_result"
    }
   ],
   "source": [
    "# и смотрим какой p-value по CTR\n",
    "ttest03_2 = ttest_ind(df['ctr'][df.exp_group == 0], df['ctr'][df.exp_group == 3], \n",
    "                    equal_var = False)\n",
    "ttest03_2"
   ]
  },
  {
   "cell_type": "code",
   "execution_count": 66,
   "id": "1d794672-dee0-41d4-bb45-806597ce225b",
   "metadata": {},
   "outputs": [
    {
     "data": {
      "image/png": "[encoded data removed]",
      "text/plain": [
       "<Figure size 432x288 with 1 Axes>"
      ]
     },
     "metadata": {
      "needs_background": "light"
     },
     "output_type": "display_data"
    }
   ],
   "source": [
    "# смотрим группы 1 и 2\n",
    "groups = sns.histplot(data = df[df.exp_group.isin((1,2))], \n",
    "              x='linearized_likes', \n",
    "              hue='exp_group', \n",
    "              palette = ['r', 'b'],\n",
    "              alpha=0.5,\n",
    "              kde=False)"
   ]
  },
  {
   "cell_type": "code",
   "execution_count": 69,
   "id": "d3d1c6f8-6921-4932-9643-c759fababa4c",
   "metadata": {},
   "outputs": [
    {
     "data": {
      "text/plain": [
       "Ttest_indResult(statistic=5.936377101934478, pvalue=2.9805064038668383e-09)"
      ]
     },
     "execution_count": 69,
     "metadata": {},
     "output_type": "execute_result"
    }
   ],
   "source": [
    "# t-test по группам 1 и 2\n",
    "ttest12 = ttest_ind(df['linearized_likes'][df.exp_group == 1], df['linearized_likes'][df.exp_group == 2],\n",
    "                   equal_var = False)\n",
    "ttest12"
   ]
  },
  {
   "cell_type": "code",
   "execution_count": null,
   "id": "856d6c49-cc80-4374-a4b5-cdd1922fa658",
   "metadata": {},
   "outputs": [],
   "source": []
  },
  {
   "cell_type": "markdown",
   "id": "1eaf1233-57b0-4c53-a566-88a351858751",
   "metadata": {},
   "source": [
    "### Вывод \n",
    "p-value больше 0.05 в обеих экспериментах.\n",
    "\n",
    " - В первом эксперименте - P-value стал меньше\n",
    " - Во втором эксперименте - тоже стал меньше (p-value по Манна-Уитни был pvalue=4.632205841806026e-45, не уверена что так корректно сравнивать)"
   ]
  }
 ],
 "metadata": {
  "kernelspec": {
   "display_name": "Python 3 (ipykernel)",
   "language": "python",
   "name": "python3"
  },
  "language_info": {
   "codemirror_mode": {
    "name": "ipython",
    "version": 3
   },
   "file_extension": ".py",
   "mimetype": "text/x-python",
   "name": "python",
   "nbconvert_exporter": "python",
   "pygments_lexer": "ipython3",
   "version": "3.8.10"
  }
 },
 "nbformat": 4,
 "nbformat_minor": 5
}
