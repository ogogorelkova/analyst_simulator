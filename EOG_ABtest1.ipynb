{
 "cells": [
  {
   "cell_type": "markdown",
   "id": "3524650f-64ca-4634-b491-445c7db77e19",
   "metadata": {
    "tags": []
   },
   "source": [
    "## TASK#1\n",
    "Итак, что нужно сделать: у нас есть данные А/А-теста с '2023-07-23' по '2023-07-29'. Вам нужно сделать симуляцию, как будто мы провели 10000 А/А-тестов. На каждой итерации вам нужно сформировать подвыборки без повторения в 500 юзеров из 2 и 3 экспериментальной группы. Провести сравнение этих подвыборок t-testом.\n",
    "\n",
    "1. Построить гистограмму распределения получившихся 10000 p-values.\n",
    "\n",
    "2. Посчитать, какой процент p values оказался меньше либо равен 0.05\n",
    "\n",
    "3. Написать вывод по проведенному А/А-тесту, корректно ли работает наша система сплитования.\n",
    "\n",
    "4. Пришлите ссылку на merge request c проведенным анализом."
   ]
  },
  {
   "cell_type": "code",
   "execution_count": 57,
   "id": "b434a1c5-14a2-4c25-b109-4510a5e9ab2f",
   "metadata": {},
   "outputs": [],
   "source": [
    "import pandas as pd\n",
    "import seaborn as sns\n",
    "import pandahouse\n",
    "import statsmodels as stats\n",
    "import random\n",
    "from scipy.stats import ttest_ind"
   ]
  },
  {
   "cell_type": "code",
   "execution_count": 16,
   "id": "eb343a1e-ddf2-452a-ae7b-3110c931dd99",
   "metadata": {},
   "outputs": [
    {
     "data": {
      "text/html": [
       "<div>\n",
       "<style scoped>\n",
       "    .dataframe tbody tr th:only-of-type {\n",
       "        vertical-align: middle;\n",
       "    }\n",
       "\n",
       "    .dataframe tbody tr th {\n",
       "        vertical-align: top;\n",
       "    }\n",
       "\n",
       "    .dataframe thead th {\n",
       "        text-align: right;\n",
       "    }\n",
       "</style>\n",
       "<table border=\"1\" class=\"dataframe\">\n",
       "  <thead>\n",
       "    <tr style=\"text-align: right;\">\n",
       "      <th></th>\n",
       "      <th>exp_group</th>\n",
       "      <th>user_id</th>\n",
       "      <th>likes</th>\n",
       "      <th>views</th>\n",
       "      <th>ctr</th>\n",
       "    </tr>\n",
       "  </thead>\n",
       "  <tbody>\n",
       "    <tr>\n",
       "      <th>0</th>\n",
       "      <td>3</td>\n",
       "      <td>115383</td>\n",
       "      <td>38</td>\n",
       "      <td>248</td>\n",
       "      <td>0.153226</td>\n",
       "    </tr>\n",
       "    <tr>\n",
       "      <th>1</th>\n",
       "      <td>3</td>\n",
       "      <td>10326</td>\n",
       "      <td>24</td>\n",
       "      <td>132</td>\n",
       "      <td>0.181818</td>\n",
       "    </tr>\n",
       "    <tr>\n",
       "      <th>2</th>\n",
       "      <td>3</td>\n",
       "      <td>123580</td>\n",
       "      <td>25</td>\n",
       "      <td>122</td>\n",
       "      <td>0.204918</td>\n",
       "    </tr>\n",
       "    <tr>\n",
       "      <th>3</th>\n",
       "      <td>2</td>\n",
       "      <td>131473</td>\n",
       "      <td>19</td>\n",
       "      <td>98</td>\n",
       "      <td>0.193878</td>\n",
       "    </tr>\n",
       "    <tr>\n",
       "      <th>4</th>\n",
       "      <td>2</td>\n",
       "      <td>23985</td>\n",
       "      <td>12</td>\n",
       "      <td>44</td>\n",
       "      <td>0.272727</td>\n",
       "    </tr>\n",
       "  </tbody>\n",
       "</table>\n",
       "</div>"
      ],
      "text/plain": [
       "   exp_group  user_id  likes  views       ctr\n",
       "0          3   115383     38    248  0.153226\n",
       "1          3    10326     24    132  0.181818\n",
       "2          3   123580     25    122  0.204918\n",
       "3          2   131473     19     98  0.193878\n",
       "4          2    23985     12     44  0.272727"
      ]
     },
     "execution_count": 16,
     "metadata": {},
     "output_type": "execute_result"
    }
   ],
   "source": [
    "#читаем нашу бд\n",
    "\n",
    "connection = {\n",
    "    'host': 'https://clickhouse.lab.karpov.courses',\n",
    "    'password': 'dpo_python_2020',\n",
    "    'user': 'student',\n",
    "    'database': 'simulator'\n",
    "}\n",
    "\n",
    "q = \"\"\"\n",
    "SELECT exp_group, \n",
    "    user_id,\n",
    "    sum(action = 'like') as likes,\n",
    "    sum(action = 'view') as views,\n",
    "    likes/views as ctr\n",
    "FROM simulator_20230820.feed_actions \n",
    "WHERE toDate(time) between '2023-07-23' and '2023-07-29'\n",
    "    and exp_group in (2,3)\n",
    "GROUP BY exp_group, user_id\n",
    "\"\"\"\n",
    "\n",
    "df = pandahouse.read_clickhouse(q, connection=connection)\n",
    "\n",
    "#дф который мы выгрузили\n",
    "df.head()"
   ]
  },
  {
   "cell_type": "code",
   "execution_count": 18,
   "id": "d367d124-e3a5-4bb1-96fb-b3b64c845cc1",
   "metadata": {},
   "outputs": [
    {
     "data": {
      "text/html": [
       "<div>\n",
       "<style scoped>\n",
       "    .dataframe tbody tr th:only-of-type {\n",
       "        vertical-align: middle;\n",
       "    }\n",
       "\n",
       "    .dataframe tbody tr th {\n",
       "        vertical-align: top;\n",
       "    }\n",
       "\n",
       "    .dataframe thead th {\n",
       "        text-align: right;\n",
       "    }\n",
       "</style>\n",
       "<table border=\"1\" class=\"dataframe\">\n",
       "  <thead>\n",
       "    <tr style=\"text-align: right;\">\n",
       "      <th></th>\n",
       "      <th>user_id</th>\n",
       "      <th>likes</th>\n",
       "      <th>views</th>\n",
       "      <th>ctr</th>\n",
       "    </tr>\n",
       "    <tr>\n",
       "      <th>exp_group</th>\n",
       "      <th></th>\n",
       "      <th></th>\n",
       "      <th></th>\n",
       "      <th></th>\n",
       "    </tr>\n",
       "  </thead>\n",
       "  <tbody>\n",
       "    <tr>\n",
       "      <th>2</th>\n",
       "      <td>8362</td>\n",
       "      <td>8362</td>\n",
       "      <td>8362</td>\n",
       "      <td>8362</td>\n",
       "    </tr>\n",
       "    <tr>\n",
       "      <th>3</th>\n",
       "      <td>8425</td>\n",
       "      <td>8425</td>\n",
       "      <td>8425</td>\n",
       "      <td>8425</td>\n",
       "    </tr>\n",
       "  </tbody>\n",
       "</table>\n",
       "</div>"
      ],
      "text/plain": [
       "           user_id  likes  views   ctr\n",
       "exp_group                             \n",
       "2             8362   8362   8362  8362\n",
       "3             8425   8425   8425  8425"
      ]
     },
     "execution_count": 18,
     "metadata": {},
     "output_type": "execute_result"
    }
   ],
   "source": [
    "#проверяем что количество пользователей примерно одинаковое в группах 2 и 3 \n",
    "df.groupby('exp_group').count()"
   ]
  },
  {
   "cell_type": "code",
   "execution_count": 83,
   "id": "2a5da3a3-5b17-4926-b296-8801c4f05c76",
   "metadata": {},
   "outputs": [
    {
     "data": {
      "image/png": "[encoded data removed]",
      "text/plain": [
       "<Figure size 842.4x595.44 with 1 Axes>"
      ]
     },
     "metadata": {},
     "output_type": "display_data"
    }
   ],
   "source": [
    "# Вот так наши группы выглядят на гистограмме\n",
    "\n",
    "groups = sns.histplot(data = df, \n",
    "              x='ctr', \n",
    "              hue='exp_group', \n",
    "              palette = ['r', 'b'],\n",
    "              alpha=0.5,\n",
    "              kde=False)"
   ]
  },
  {
   "cell_type": "markdown",
   "id": "594a6cd9-606f-4e4a-9a9c-8daa6c381c24",
   "metadata": {},
   "source": [
    "Нулевая гипотеза, которую мы будем проверять:\n",
    "    До начала нашего эксперимента CTR в двух группах одинаковый, т.е. \n",
    "<b> CTR группы 2 = CTR группы 3 </b>"
   ]
  },
  {
   "cell_type": "markdown",
   "id": "4e7d85c4-a9e4-4a29-a47a-da54713595f4",
   "metadata": {},
   "source": [
    "План действий следующий:\n",
    "1. Сделать 10к неповторяющихся выборок: 500 из группы 2 и 500 из группы3\n",
    "2. Посчитать 10к раз pvalue при помощи ttest\n"
   ]
  },
  {
   "cell_type": "code",
   "execution_count": 65,
   "id": "801d08ad-ca3e-495d-b49b-1c2dc7bf0e42",
   "metadata": {},
   "outputs": [],
   "source": [
    "# создаем цикл на расчет 10к pvalues\n",
    "sample_size = 500  \n",
    "pvalues_list = []\n",
    "for i in range(10000):\n",
    "    #формируем выборки для группы 2 и 3, по 500 юзеров в каждой\n",
    "    i_group2 = random.sample(df[df.exp_group == 2].ctr.tolist(), sample_size)\n",
    "    i_group3 = random.sample(df[df.exp_group == 3].ctr.tolist(), sample_size)\n",
    "    \n",
    "    # для каждой пары выборок считаем pvalue и сохраняем его в список    \n",
    "    i_p = ttest_ind(i_group2, i_group3).pvalue\n",
    "    pvalues_list.append(i_p)\n"
   ]
  },
  {
   "cell_type": "code",
   "execution_count": 66,
   "id": "af680cfa-7609-4741-a6c2-d5931296b111",
   "metadata": {},
   "outputs": [
    {
     "data": {
      "text/plain": [
       "10000"
      ]
     },
     "execution_count": 66,
     "metadata": {},
     "output_type": "execute_result"
    }
   ],
   "source": [
    "len(pvalues_list)"
   ]
  },
  {
   "cell_type": "code",
   "execution_count": 67,
   "id": "7de4b407-1a63-4740-8d53-b14fe18e6b23",
   "metadata": {},
   "outputs": [
    {
     "data": {
      "image/png": "[encoded data removed]",
      "text/plain": [
       "<Figure size 842.4x595.44 with 1 Axes>"
      ]
     },
     "metadata": {},
     "output_type": "display_data"
    }
   ],
   "source": [
    "pvalues_distribution = sns.histplot(data = pvalues_list)"
   ]
  },
  {
   "cell_type": "code",
   "execution_count": 82,
   "id": "144f951a-1bb2-4763-ac75-f728e1b90324",
   "metadata": {},
   "outputs": [
    {
     "data": {
      "text/plain": [
       "4.62"
      ]
     },
     "execution_count": 82,
     "metadata": {},
     "output_type": "execute_result"
    }
   ],
   "source": [
    "# считаем % P-values из наших 10к тестов, у которых значение менее 5%:\n",
    "len([i for i in pvalues_list if i <= 0.05])/len(pvalues_list)*100"
   ]
  },
  {
   "cell_type": "markdown",
   "id": "1eaf1233-57b0-4c53-a566-88a351858751",
   "metadata": {},
   "source": [
    "### Вывод \n",
    "Из гистограммы выше видно, что p-values распределены равномерно. Это значит, что вероятность получить любое значение pvalue от 0 до 1 равновероятно по нашим 10 000 t-tests. Вероятность получить p-value меньше 5% - около 5% . А это значит, что из 10к тестов 5% было бы отвергнуто. Из этого можно сделать вывод, что мы <b>не можем опровергнуть нулевую гипотезу</b>, а следовательно наше деление на группы для последующего проведения AB теста - корректное"
   ]
  },
  {
   "cell_type": "code",
   "execution_count": null,
   "id": "c8a2e455-6c2b-4d7b-94d3-45f167d222d4",
   "metadata": {},
   "outputs": [],
   "source": []
  }
 ],
 "metadata": {
  "kernelspec": {
   "display_name": "Python 3 (ipykernel)",
   "language": "python",
   "name": "python3"
  },
  "language_info": {
   "codemirror_mode": {
    "name": "ipython",
    "version": 3
   },
   "file_extension": ".py",
   "mimetype": "text/x-python",
   "name": "python",
   "nbconvert_exporter": "python",
   "pygments_lexer": "ipython3",
   "version": "3.8.10"
  }
 },
 "nbformat": 4,
 "nbformat_minor": 5
}
